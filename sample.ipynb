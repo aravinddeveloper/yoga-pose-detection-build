{
 "cells": [
  {
   "cell_type": "code",
   "execution_count": 2,
   "id": "51cff43b-8abc-4316-a558-170d5c102693",
   "metadata": {
    "tags": []
   },
   "outputs": [],
   "source": [
    "import os\n",
    "import boto3\n",
    "import sagemaker\n",
    "import sagemaker.session\n",
    "from sagemaker.estimator import Estimator\n",
    "from sagemaker.inputs import TrainingInput\n",
    "from sagemaker.model_metrics import MetricsSource, ModelMetrics\n",
    "from sagemaker.processing import ProcessingInput, ProcessingOutput, ScriptProcessor\n",
    "from sagemaker.pytorch.processing import PyTorchProcessor\n",
    "from sagemaker.workflow.condition_step import ConditionStep\n",
    "from sagemaker.workflow.conditions import ConditionGreaterThanOrEqualTo\n",
    "from sagemaker.workflow.functions import JsonGet\n",
    "from sagemaker.workflow.parameters import ParameterInteger, ParameterString\n",
    "from sagemaker.workflow.pipeline import Pipeline\n",
    "from sagemaker.workflow.properties import PropertyFile\n",
    "from sagemaker.workflow.step_collections import RegisterModel\n",
    "from sagemaker.workflow.steps import ProcessingStep, TrainingStep, CacheConfig"
   ]
  },
  {
   "cell_type": "code",
   "execution_count": 10,
   "id": "c0c4d26b-6bfa-406b-b98f-397a78ffddc5",
   "metadata": {
    "tags": []
   },
   "outputs": [
    {
     "name": "stdout",
     "output_type": "stream",
     "text": [
      "Setting parameters for pipeline\n"
     ]
    }
   ],
   "source": [
    "BUCKET_NAME = \"aravind-aws-ml-sagemaker\"\n",
    "def get_session(region, default_bucket=BUCKET_NAME):\n",
    "  \n",
    "    boto_session = boto3.Session(region_name=region)\n",
    "\n",
    "    sagemaker_client = boto_session.client(\"sagemaker\")\n",
    "    runtime_client = boto_session.client(\"sagemaker-runtime\")\n",
    "    return sagemaker.session.Session(\n",
    "        boto_session=boto_session,\n",
    "        sagemaker_client=sagemaker_client,\n",
    "        sagemaker_runtime_client=runtime_client,\n",
    "        default_bucket=default_bucket,\n",
    "    )\n",
    "\n",
    "sagemaker_session = get_session(\"us-east-1\")\n",
    "# if role is None:\n",
    "role = sagemaker.session.get_execution_role(sagemaker_session)\n",
    "\n",
    "# Parameters for preprocessing pipeline execution\n",
    "print(\"Setting parameters for pipeline\")\n",
    "processing_instance_count = ParameterInteger(name=\"ProcessingInstanceCount\", default_value=1)\n",
    "processing_instance_type = ParameterString(\n",
    "    name=\"ProcessingInstanceType\", default_value=\"ml.m5.xlarge\"\n",
    ")"
   ]
  },
  {
   "cell_type": "code",
   "execution_count": 13,
   "id": "1e46518b-b73f-4853-b6b5-f17a0a460f11",
   "metadata": {
    "tags": []
   },
   "outputs": [
    {
     "data": {
      "text/plain": [
       "sagemaker.workflow.parameters.ParameterString"
      ]
     },
     "execution_count": 13,
     "metadata": {},
     "output_type": "execute_result"
    }
   ],
   "source": [
    "processing_instance_type"
   ]
  },
  {
   "cell_type": "code",
   "execution_count": 11,
   "id": "8e762254-c4a4-46bb-8d83-2df4f15a0263",
   "metadata": {
    "tags": []
   },
   "outputs": [
    {
     "name": "stderr",
     "output_type": "stream",
     "text": [
      "The input argument instance_type of function (sagemaker.image_uris.retrieve) is a pipeline variable (<class 'sagemaker.workflow.parameters.ParameterString'>), which is not allowed. The default_value of this Parameter object will be used to override it. Please make sure the default_value is valid.\n"
     ]
    }
   ],
   "source": [
    "processor = PyTorchProcessor(role=role,\n",
    "                                 framework_version=\"1.8\",\n",
    "                                 instance_type=processing_instance_type,\n",
    "                                 instance_count=processing_instance_count,\n",
    "                                 sagemaker_session=sagemaker_session)"
   ]
  },
  {
   "cell_type": "code",
   "execution_count": 21,
   "id": "60cf308a-a2b4-41cb-83d4-26b67db92247",
   "metadata": {
    "tags": []
   },
   "outputs": [],
   "source": [
    "cache_config = CacheConfig(\n",
    "        enable_caching=True,\n",
    "        expire_after=\"T1H\"\n",
    "    )\n",
    "processing_step = ProcessingStep(name=\"pre-processing-step\",\n",
    "                                 processor=processor,\n",
    "                                 inputs=ProcessingInput(input_name=\"raw-data\",\n",
    "                                                        source=\"/\",\n",
    "                                                        destination=f\"input\"),\n",
    "                                 code=\"sample.ipynb\",\n",
    "                                 outputs=[ProcessingOutput(output_name=\"train\",\n",
    "                                                           source=\"train\",\n",
    "                                                           destination=\"dest\"),\n",
    "                                          ProcessingOutput(output_name=\"val\",\n",
    "                                                           source=f\"val\",\n",
    "                                                           destination=f\"val\")],\n",
    "                                cache_config=cache_config)"
   ]
  }
 ],
 "metadata": {
  "kernelspec": {
   "display_name": "Python 3 (Data Science)",
   "language": "python",
   "name": "python3__SAGEMAKER_INTERNAL__arn:aws:sagemaker:us-east-1:081325390199:image/datascience-1.0"
  },
  "language_info": {
   "codemirror_mode": {
    "name": "ipython",
    "version": 3
   },
   "file_extension": ".py",
   "mimetype": "text/x-python",
   "name": "python",
   "nbconvert_exporter": "python",
   "pygments_lexer": "ipython3",
   "version": "3.7.10"
  }
 },
 "nbformat": 4,
 "nbformat_minor": 5
}
