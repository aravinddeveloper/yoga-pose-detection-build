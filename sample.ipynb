{
 "cells": [
  {
   "cell_type": "code",
   "execution_count": 2,
   "id": "51cff43b-8abc-4316-a558-170d5c102693",
   "metadata": {
    "tags": []
   },
   "outputs": [],
   "source": [
    "import os\n",
    "import boto3\n",
    "import sagemaker\n",
    "import sagemaker.session\n",
    "from sagemaker.estimator import Estimator\n",
    "from sagemaker.inputs import TrainingInput\n",
    "from sagemaker.model_metrics import MetricsSource, ModelMetrics\n",
    "from sagemaker.processing import ProcessingInput, ProcessingOutput, ScriptProcessor\n",
    "from sagemaker.pytorch.processing import PyTorchProcessor\n",
    "from sagemaker.pytorch.estimator import PyTorch\n",
    "from sagemaker.workflow.condition_step import ConditionStep\n",
    "from sagemaker.workflow.conditions import ConditionGreaterThanOrEqualTo\n",
    "from sagemaker.workflow.functions import JsonGet\n",
    "from sagemaker.workflow.parameters import ParameterInteger, ParameterString\n",
    "from sagemaker.workflow.pipeline import Pipeline\n",
    "from sagemaker.workflow.properties import PropertyFile\n",
    "from sagemaker.workflow.step_collections import RegisterModel\n",
    "from sagemaker.workflow.steps import ProcessingStep, TrainingStep, CacheConfig\n",
    "from sagemaker.workflow.functions import Join"
   ]
  },
  {
   "cell_type": "code",
   "execution_count": 3,
   "id": "c0c4d26b-6bfa-406b-b98f-397a78ffddc5",
   "metadata": {
    "tags": []
   },
   "outputs": [
    {
     "name": "stdout",
     "output_type": "stream",
     "text": [
      "Setting parameters for pipeline\n"
     ]
    }
   ],
   "source": [
    "BUCKET_NAME = \"aravind-aws-ml-sagemaker\"\n",
    "def get_session(region, default_bucket=BUCKET_NAME):\n",
    "  \n",
    "    boto_session = boto3.Session(region_name=region)\n",
    "\n",
    "    sagemaker_client = boto_session.client(\"sagemaker\")\n",
    "    runtime_client = boto_session.client(\"sagemaker-runtime\")\n",
    "    return sagemaker.session.Session(\n",
    "        boto_session=boto_session,\n",
    "        sagemaker_client=sagemaker_client,\n",
    "        sagemaker_runtime_client=runtime_client,\n",
    "        default_bucket=default_bucket,\n",
    "    )\n",
    "\n",
    "sagemaker_session = get_session(\"us-east-1\")\n",
    "# if role is None:\n",
    "role = sagemaker.session.get_execution_role(sagemaker_session)\n",
    "\n",
    "# Parameters for preprocessing pipeline execution\n",
    "print(\"Setting parameters for pipeline\")\n",
    "processing_instance_count = ParameterInteger(name=\"ProcessingInstanceCount\", default_value=1)\n",
    "processing_instance_type = ParameterString(\n",
    "    name=\"ProcessingInstanceType\", default_value=\"ml.m5.xlarge\"\n",
    ")"
   ]
  },
  {
   "cell_type": "code",
   "execution_count": 13,
   "id": "1e46518b-b73f-4853-b6b5-f17a0a460f11",
   "metadata": {
    "tags": []
   },
   "outputs": [
    {
     "data": {
      "text/plain": [
       "sagemaker.workflow.parameters.ParameterString"
      ]
     },
     "execution_count": 13,
     "metadata": {},
     "output_type": "execute_result"
    }
   ],
   "source": [
    "processing_instance_type"
   ]
  },
  {
   "cell_type": "code",
   "execution_count": 4,
   "id": "8e762254-c4a4-46bb-8d83-2df4f15a0263",
   "metadata": {
    "tags": []
   },
   "outputs": [
    {
     "name": "stderr",
     "output_type": "stream",
     "text": [
      "The input argument instance_type of function (sagemaker.image_uris.retrieve) is a pipeline variable (<class 'sagemaker.workflow.parameters.ParameterString'>), which is not allowed. The default_value of this Parameter object will be used to override it. Please make sure the default_value is valid.\n"
     ]
    }
   ],
   "source": [
    "processor = PyTorchProcessor(role=role,\n",
    "                                 framework_version=\"1.8\",\n",
    "                                 instance_type=processing_instance_type,\n",
    "                                 instance_count=processing_instance_count,\n",
    "                                 sagemaker_session=sagemaker_session)"
   ]
  },
  {
   "cell_type": "code",
   "execution_count": 5,
   "id": "865ed6ca-7154-404b-84fb-e6f3cc08e270",
   "metadata": {
    "tags": []
   },
   "outputs": [
    {
     "name": "stdout",
     "output_type": "stream",
     "text": [
      "Setting parameters for pipeline\n"
     ]
    }
   ],
   "source": [
    "  # Parameters for preprocessing pipeline execution\n",
    "print(\"Setting parameters for pipeline\")\n",
    "processing_instance_count = ParameterInteger(name=\"ProcessingInstanceCount\", default_value=1)\n",
    "processing_instance_type = ParameterString(\n",
    "    name=\"ProcessingInstanceType\", default_value=\"ml.m5.xlarge\"\n",
    ")\n",
    "training_instance_count = ParameterInteger(name=\"TrainingInstanceCount\", default_value=1)\n",
    "training_instance_type = ParameterString(\n",
    "    name=\"TrainingInstanceType\", default_value=\"ml.c4.2xlarge\"\n",
    ")\n",
    "epochs = ParameterInteger(name=\"Epochs\", default_value=1)\n",
    "batch_size = ParameterInteger(name=\"BatchSize\", default_value=5)\n",
    "train_folder = ParameterString(\n",
    "    name=\"TrainFolderName\",\n",
    "    default_value=\"train\"  # Change this to point to the s3 location of your raw input data.\n",
    ")\n",
    "val_folder = ParameterString(\n",
    "    name=\"ValidationFolderName\",\n",
    "    default_value=\"val\"  # Change this to point to the s3 location of your raw input data.\n",
    ")\n",
    "model_approval_status = ParameterString(\n",
    "    name=\"ModelApprovalStatus\",\n",
    "    default_value=\"PendingManualApproval\",  # ModelApprovalStatus can be set to a default of \"Approved\" if you don't want manual approval.\n",
    ")\n",
    "input_data_path = ParameterString(\n",
    "    name=\"InputDataUrl\",\n",
    "    default_value=f\"s3://{BUCKET_NAME}/input\" #Join(on=\"\",values=[\"s3://\",BUCKET_NAME,\"/input\"]) #,  # Change this to point to the s3 location of your raw input data.\n",
    ")\n",
    "processed_data_path = ParameterString(\n",
    "    name=\"OutputDataUrl\",\n",
    "    default_value=f\"s3://{BUCKET_NAME}/processed\" #Join(on=\"\",values=[\"s3://\",BUCKET_NAME,\"/processed\"]) #,  # Change this to point to the s3 location of your raw input data.\n",
    ")\n",
    "model_path = ParameterString(\n",
    "    name=\"ModelPath\",\n",
    "    default_value=f\"s3://{BUCKET_NAME}/model\" #Join(on=\"\",values=[\"s3://\",BUCKET_NAME,\"/model\"]) #f\"s3://{BUCKET_NAME}/model\",  # Change this to point to the s3 location of your raw input data.\n",
    ")\n",
    "\n",
    "cache_config = CacheConfig(\n",
    "    enable_caching=True,\n",
    "    expire_after=\"T1H\"\n",
    ")"
   ]
  },
  {
   "cell_type": "code",
   "execution_count": 14,
   "id": "9a1686ac-435d-43a9-ba12-7b9f97139e68",
   "metadata": {
    "tags": []
   },
   "outputs": [
    {
     "data": {
      "text/plain": [
       "Join(on='', values=['s3://', 'aravind-aws-ml-sagemaker', '/input'])"
      ]
     },
     "execution_count": 14,
     "metadata": {},
     "output_type": "execute_result"
    }
   ],
   "source": [
    "string1 = Join(on=\"\",values=[\"s3://\",BUCKET_NAME,\"/input\"])\n",
    "string1.to_string()"
   ]
  },
  {
   "cell_type": "code",
   "execution_count": 6,
   "id": "60cf308a-a2b4-41cb-83d4-26b67db92247",
   "metadata": {
    "tags": []
   },
   "outputs": [],
   "source": [
    "cache_config = CacheConfig(\n",
    "        enable_caching=True,\n",
    "        expire_after=\"T1H\"\n",
    "    )\n",
    "processing_step = ProcessingStep(name=\"pre-processing-step\",\n",
    "                                 processor=processor,\n",
    "                                 inputs=ProcessingInput(input_name=\"raw-data\",\n",
    "                                                        source=\"/\",\n",
    "                                                        destination=f\"input\"),\n",
    "                                 code=\"sample.ipynb\",\n",
    "                                 outputs=[ProcessingOutput(output_name=\"train\",\n",
    "                                                           source=\"train\",\n",
    "                                                           destination=\"dest\"),\n",
    "                                          ProcessingOutput(output_name=\"val\",\n",
    "                                                           source=f\"val\",\n",
    "                                                           destination=f\"val\")],\n",
    "                                cache_config=cache_config)"
   ]
  },
  {
   "cell_type": "code",
   "execution_count": 7,
   "id": "c1770770-aaf8-43ec-bd7f-9f910f583da8",
   "metadata": {
    "tags": []
   },
   "outputs": [
    {
     "name": "stdout",
     "output_type": "stream",
     "text": [
      "Setting Training estimator\n",
      "Setting hyperparameters\n",
      "Setting training step\n"
     ]
    },
    {
     "name": "stderr",
     "output_type": "stream",
     "text": [
      "/opt/conda/lib/python3.7/site-packages/sagemaker/workflow/steps.py:445: UserWarning: Profiling is enabled on the provided estimator. The default profiler rule includes a timestamp which will change each time the pipeline is upserted, causing cache misses. If profiling is not needed, set disable_profiler to True on the estimator.\n",
      "  warnings.warn(msg)\n"
     ]
    }
   ],
   "source": [
    "#Env variables\n",
    "BASE_DIR = \"sample\"\n",
    "BUCKET_NAME = \"aravind-aws-ml-sagemaker\"\n",
    "PROCESSING_PATH = \"/opt/ml/processing\"\n",
    "MODEL_PATH = \"/opt/ml/model\"\n",
    "base_job_prefix=\"base\"\n",
    "env_variables = {\n",
    "    \"SM_NUM_GPUS\":\"1\",\n",
    "    \"SM_MODEL_DIR\":f\"{MODEL_PATH}/model/\",\n",
    "    \"SM_OUTPUT_DATA_DIR\":f\"{MODEL_PATH}/output/\",\n",
    "    \"SM_CHANNEL_TRAIN\":f\"{MODEL_PATH}/train/\",\n",
    "    \"SM_CHANNEL_VAL\":f\"{MODEL_PATH}/val/\"\n",
    "}\n",
    "\n",
    "print(\"Setting Training estimator\")\n",
    "pt_estimator = PyTorch(\n",
    "    entry_point=\"train.py\",\n",
    "    role=role,\n",
    "    source_dir=BASE_DIR,\n",
    "    framework_version=\"1.8.0\",\n",
    "    py_version=\"py3\",\n",
    "    instance_count=training_instance_count,\n",
    "    instance_type=training_instance_type,\n",
    "    use_spot_instances=True,\n",
    "    checkpoint_s3_uri=f\"S3://{BUCKET_NAME}/{base_job_prefix}/checkpoints/\",   #Join(on=\"\",values=[\"s3://\",BUCKET_NAME,\"/\",base_job_prefix,\"/checkpoints/\"])\n",
    "    checkpoint_local_path=\"/opt/ml/checkpoints/\",\n",
    "    max_run=3600,\n",
    "    max_wait=3800,\n",
    "    environment=env_variables,\n",
    "    sagemaker_session=sagemaker_session)\n",
    "\n",
    "print(\"Setting hyperparameters\")\n",
    "pt_estimator.set_hyperparameters(epochs=epochs,\n",
    "                                 batch_size=batch_size)\n",
    "print(\"Setting training step\")\n",
    "step_train = TrainingStep(\n",
    "    name=\"training-step\",\n",
    "    estimator=pt_estimator,\n",
    "    inputs={\n",
    "        \"train\": TrainingInput(\n",
    "            s3_data=processing_step.properties.ProcessingOutputConfig.Outputs[\"train\"].S3Output.S3Uri\n",
    "        ),\n",
    "        \"val\": TrainingInput(\n",
    "            s3_data=processing_step.properties.ProcessingOutputConfig.Outputs[\"val\"].S3Output.S3Uri\n",
    "        )\n",
    "    },\n",
    "    depends_on=processing_step,\n",
    "    cache_config=cache_config)"
   ]
  },
  {
   "cell_type": "code",
   "execution_count": 8,
   "id": "e405753c-e0ff-4489-9f91-5f39d95fc45d",
   "metadata": {
    "tags": []
   },
   "outputs": [
    {
     "name": "stderr",
     "output_type": "stream",
     "text": [
      "The input argument instance_type of function (sagemaker.image_uris.retrieve) is a pipeline variable (<class 'sagemaker.workflow.parameters.ParameterString'>), which is not allowed. The default_value of this Parameter object will be used to override it. Please make sure the default_value is valid.\n"
     ]
    },
    {
     "name": "stdout",
     "output_type": "stream",
     "text": [
      "Setting model evaluation processor\n",
      "Setting model evaluation step\n",
      "Setting model metrics\n",
      "Registering model\n",
      "condition step\n",
      "Building final pipeline\n"
     ]
    }
   ],
   "source": [
    "# Processing step for evaluation\n",
    "print(\"Setting model evaluation processor\")\n",
    "model_eval = PyTorchProcessor(role=role,\n",
    "                             framework_version=\"1.8\",\n",
    "                             instance_type=processing_instance_type,\n",
    "                             instance_count=processing_instance_count,\n",
    "                             sagemaker_session=sagemaker_session)\n",
    "\n",
    "evaluation_report = PropertyFile(\n",
    "    name=\"EvaluationReport\",\n",
    "    output_name=\"evaluation\",\n",
    "    path=\"evaluation.json\",\n",
    ")\n",
    "\n",
    "print(\"Setting model evaluation step\")\n",
    "step_eval = ProcessingStep(\n",
    "    name=\"evaluation-step\",\n",
    "    processor=model_eval,\n",
    "    inputs=[\n",
    "        ProcessingInput(\n",
    "            source=step_train.properties.ModelArtifacts.S3ModelArtifacts,\n",
    "            destination=\"/opt/ml/processing/model\",\n",
    "        ),\n",
    "        ProcessingInput(\n",
    "            source=processing_step.properties.ProcessingOutputConfig.Outputs[\"eval\"].S3Output.S3Uri,\n",
    "            destination=\"/opt/ml/processing/eval\",\n",
    "        )\n",
    "    ],\n",
    "    outputs=[\n",
    "        ProcessingOutput(output_name=\"evaluation\", source=\"/opt/ml/processing/eval\"),\n",
    "    ],\n",
    "    code=\"sample.ipynb\",\n",
    "    property_files=[evaluation_report]\n",
    ")\n",
    "\n",
    "# Register model step that will be conditionally executed\n",
    "print(\"Setting model metrics\")\n",
    "model_metrics = ModelMetrics(\n",
    "    model_statistics=MetricsSource(\n",
    "        s3_uri=\"{}/evaluation.json\".format(\n",
    "            step_eval.arguments[\"ProcessingOutputConfig\"][\"Outputs\"][0][\"S3Output\"][\"S3Uri\"]\n",
    "        ),\n",
    "        content_type=\"application/json\",\n",
    "    )\n",
    ")\n",
    "\n",
    "# Register model step that will be conditionally executed\n",
    "print(\"Registering model\")\n",
    "step_register = RegisterModel(\n",
    "    name=\"register-model\",\n",
    "    estimator=pt_estimator,\n",
    "    model_data=step_train.properties.ModelArtifacts.S3ModelArtifacts,\n",
    "    content_types=[\"image/png\",\"image/jpg\",\"image/jpeg\"],\n",
    "    response_types=[\"application/json\"],\n",
    "    model_package_group_name=\"1\",\n",
    "    approval_status=model_approval_status,\n",
    "    model_metrics=model_metrics\n",
    ")\n",
    "\n",
    "accuracy_score = JsonGet(\n",
    "    step_name=step_eval.name,\n",
    "    property_file=evaluation_report,\n",
    "    json_path=\"multiclass_classification_metrics.accuracy.value\"\n",
    ")\n",
    "\n",
    "print(\"condition step\")\n",
    "condition = ConditionGreaterThanOrEqualTo(left=accuracy_score,right=0.8)\n",
    "step_condition = ConditionStep(\n",
    "    name=\"evaluation-condition-check\",\n",
    "    conditions=[condition],\n",
    "    if_steps=[step_register],\n",
    "    else_steps=[]\n",
    ")\n",
    "\n",
    "# Pipeline instance\n",
    "print(\"Building final pipeline\")\n",
    "pipeline = Pipeline(\n",
    "    name=\"model\",\n",
    "    parameters=[\n",
    "        processing_instance_count,\n",
    "        processing_instance_type,\n",
    "        training_instance_count,\n",
    "        training_instance_type,\n",
    "        epochs,\n",
    "        batch_size,\n",
    "        train_folder,\n",
    "        val_folder,\n",
    "        \"/home\",\n",
    "        model_approval_status,\n",
    "        input_data_path,\n",
    "        processed_data_path,\n",
    "        model_path\n",
    "    ],\n",
    "    steps=[processing_step, step_train, step_eval, step_condition],\n",
    "    sagemaker_session=sagemaker_session,\n",
    ")"
   ]
  }
 ],
 "metadata": {
  "kernelspec": {
   "display_name": "Python 3 (Data Science)",
   "language": "python",
   "name": "python3__SAGEMAKER_INTERNAL__arn:aws:sagemaker:us-east-1:081325390199:image/datascience-1.0"
  },
  "language_info": {
   "codemirror_mode": {
    "name": "ipython",
    "version": 3
   },
   "file_extension": ".py",
   "mimetype": "text/x-python",
   "name": "python",
   "nbconvert_exporter": "python",
   "pygments_lexer": "ipython3",
   "version": "3.7.10"
  }
 },
 "nbformat": 4,
 "nbformat_minor": 5
}
