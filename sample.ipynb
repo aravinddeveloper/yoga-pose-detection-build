{
 "cells": [
  {
   "cell_type": "code",
   "execution_count": 7,
   "id": "51cff43b-8abc-4316-a558-170d5c102693",
   "metadata": {
    "tags": []
   },
   "outputs": [],
   "source": [
    "import os\n",
    "import boto3\n",
    "import sagemaker\n",
    "import sagemaker.session\n",
    "from sagemaker.estimator import Estimator\n",
    "from sagemaker.inputs import TrainingInput\n",
    "from sagemaker.model_metrics import MetricsSource, ModelMetrics\n",
    "from sagemaker.processing import ProcessingInput, ProcessingOutput, ScriptProcessor\n",
    "from sagemaker.pytorch.processing import PyTorchProcessor\n",
    "from sagemaker.workflow.condition_step import ConditionStep\n",
    "from sagemaker.workflow.conditions import ConditionGreaterThanOrEqualTo\n",
    "from sagemaker.workflow.functions import JsonGet\n",
    "from sagemaker.workflow.parameters import ParameterInteger, ParameterString\n",
    "from sagemaker.workflow.pipeline import Pipeline\n",
    "from sagemaker.workflow.properties import PropertyFile\n",
    "from sagemaker.workflow.step_collections import RegisterModel\n",
    "from sagemaker.workflow.steps import ProcessingStep, TrainingStep, CacheConfig\n",
    "from sagemaker.workflow.functions import Join"
   ]
  },
  {
   "cell_type": "code",
   "execution_count": 2,
   "id": "c0c4d26b-6bfa-406b-b98f-397a78ffddc5",
   "metadata": {
    "tags": []
   },
   "outputs": [
    {
     "ename": "NameError",
     "evalue": "name 'boto3' is not defined",
     "output_type": "error",
     "traceback": [
      "\u001b[0;31m---------------------------------------------------------------------------\u001b[0m",
      "\u001b[0;31mNameError\u001b[0m                                 Traceback (most recent call last)",
      "\u001b[0;32m<ipython-input-2-7443b41f2639>\u001b[0m in \u001b[0;36m<module>\u001b[0;34m\u001b[0m\n\u001b[1;32m     13\u001b[0m     )\n\u001b[1;32m     14\u001b[0m \u001b[0;34m\u001b[0m\u001b[0m\n\u001b[0;32m---> 15\u001b[0;31m \u001b[0msagemaker_session\u001b[0m \u001b[0;34m=\u001b[0m \u001b[0mget_session\u001b[0m\u001b[0;34m(\u001b[0m\u001b[0;34m\"us-east-1\"\u001b[0m\u001b[0;34m)\u001b[0m\u001b[0;34m\u001b[0m\u001b[0;34m\u001b[0m\u001b[0m\n\u001b[0m\u001b[1;32m     16\u001b[0m \u001b[0;31m# if role is None:\u001b[0m\u001b[0;34m\u001b[0m\u001b[0;34m\u001b[0m\u001b[0;34m\u001b[0m\u001b[0m\n\u001b[1;32m     17\u001b[0m \u001b[0mrole\u001b[0m \u001b[0;34m=\u001b[0m \u001b[0msagemaker\u001b[0m\u001b[0;34m.\u001b[0m\u001b[0msession\u001b[0m\u001b[0;34m.\u001b[0m\u001b[0mget_execution_role\u001b[0m\u001b[0;34m(\u001b[0m\u001b[0msagemaker_session\u001b[0m\u001b[0;34m)\u001b[0m\u001b[0;34m\u001b[0m\u001b[0;34m\u001b[0m\u001b[0m\n",
      "\u001b[0;32m<ipython-input-2-7443b41f2639>\u001b[0m in \u001b[0;36mget_session\u001b[0;34m(region, default_bucket)\u001b[0m\n\u001b[1;32m      2\u001b[0m \u001b[0;32mdef\u001b[0m \u001b[0mget_session\u001b[0m\u001b[0;34m(\u001b[0m\u001b[0mregion\u001b[0m\u001b[0;34m,\u001b[0m \u001b[0mdefault_bucket\u001b[0m\u001b[0;34m=\u001b[0m\u001b[0mBUCKET_NAME\u001b[0m\u001b[0;34m)\u001b[0m\u001b[0;34m:\u001b[0m\u001b[0;34m\u001b[0m\u001b[0;34m\u001b[0m\u001b[0m\n\u001b[1;32m      3\u001b[0m \u001b[0;34m\u001b[0m\u001b[0m\n\u001b[0;32m----> 4\u001b[0;31m     \u001b[0mboto_session\u001b[0m \u001b[0;34m=\u001b[0m \u001b[0mboto3\u001b[0m\u001b[0;34m.\u001b[0m\u001b[0mSession\u001b[0m\u001b[0;34m(\u001b[0m\u001b[0mregion_name\u001b[0m\u001b[0;34m=\u001b[0m\u001b[0mregion\u001b[0m\u001b[0;34m)\u001b[0m\u001b[0;34m\u001b[0m\u001b[0;34m\u001b[0m\u001b[0m\n\u001b[0m\u001b[1;32m      5\u001b[0m \u001b[0;34m\u001b[0m\u001b[0m\n\u001b[1;32m      6\u001b[0m     \u001b[0msagemaker_client\u001b[0m \u001b[0;34m=\u001b[0m \u001b[0mboto_session\u001b[0m\u001b[0;34m.\u001b[0m\u001b[0mclient\u001b[0m\u001b[0;34m(\u001b[0m\u001b[0;34m\"sagemaker\"\u001b[0m\u001b[0;34m)\u001b[0m\u001b[0;34m\u001b[0m\u001b[0;34m\u001b[0m\u001b[0m\n",
      "\u001b[0;31mNameError\u001b[0m: name 'boto3' is not defined"
     ]
    }
   ],
   "source": [
    "BUCKET_NAME = \"aravind-aws-ml-sagemaker\"\n",
    "def get_session(region, default_bucket=BUCKET_NAME):\n",
    "  \n",
    "    boto_session = boto3.Session(region_name=region)\n",
    "\n",
    "    sagemaker_client = boto_session.client(\"sagemaker\")\n",
    "    runtime_client = boto_session.client(\"sagemaker-runtime\")\n",
    "    return sagemaker.session.Session(\n",
    "        boto_session=boto_session,\n",
    "        sagemaker_client=sagemaker_client,\n",
    "        sagemaker_runtime_client=runtime_client,\n",
    "        default_bucket=default_bucket,\n",
    "    )\n",
    "\n",
    "sagemaker_session = get_session(\"us-east-1\")\n",
    "# if role is None:\n",
    "role = sagemaker.session.get_execution_role(sagemaker_session)\n",
    "\n",
    "# Parameters for preprocessing pipeline execution\n",
    "print(\"Setting parameters for pipeline\")\n",
    "processing_instance_count = ParameterInteger(name=\"ProcessingInstanceCount\", default_value=1)\n",
    "processing_instance_type = ParameterString(\n",
    "    name=\"ProcessingInstanceType\", default_value=\"ml.m5.xlarge\"\n",
    ")"
   ]
  },
  {
   "cell_type": "code",
   "execution_count": 13,
   "id": "1e46518b-b73f-4853-b6b5-f17a0a460f11",
   "metadata": {
    "tags": []
   },
   "outputs": [
    {
     "data": {
      "text/plain": [
       "sagemaker.workflow.parameters.ParameterString"
      ]
     },
     "execution_count": 13,
     "metadata": {},
     "output_type": "execute_result"
    }
   ],
   "source": [
    "processing_instance_type"
   ]
  },
  {
   "cell_type": "code",
   "execution_count": 11,
   "id": "8e762254-c4a4-46bb-8d83-2df4f15a0263",
   "metadata": {
    "tags": []
   },
   "outputs": [
    {
     "name": "stderr",
     "output_type": "stream",
     "text": [
      "The input argument instance_type of function (sagemaker.image_uris.retrieve) is a pipeline variable (<class 'sagemaker.workflow.parameters.ParameterString'>), which is not allowed. The default_value of this Parameter object will be used to override it. Please make sure the default_value is valid.\n"
     ]
    }
   ],
   "source": [
    "processor = PyTorchProcessor(role=role,\n",
    "                                 framework_version=\"1.8\",\n",
    "                                 instance_type=processing_instance_type,\n",
    "                                 instance_count=processing_instance_count,\n",
    "                                 sagemaker_session=sagemaker_session)"
   ]
  },
  {
   "cell_type": "code",
   "execution_count": 15,
   "id": "865ed6ca-7154-404b-84fb-e6f3cc08e270",
   "metadata": {
    "tags": []
   },
   "outputs": [
    {
     "name": "stdout",
     "output_type": "stream",
     "text": [
      "Setting parameters for pipeline\n"
     ]
    }
   ],
   "source": [
    "  # Parameters for preprocessing pipeline execution\n",
    "print(\"Setting parameters for pipeline\")\n",
    "processing_instance_count = ParameterInteger(name=\"ProcessingInstanceCount\", default_value=1)\n",
    "processing_instance_type = ParameterString(\n",
    "    name=\"ProcessingInstanceType\", default_value=\"ml.m5.xlarge\"\n",
    ")\n",
    "training_instance_count = ParameterInteger(name=\"TrainingInstanceCount\", default_value=1)\n",
    "training_instance_type = ParameterString(\n",
    "    name=\"TrainingInstanceType\", default_value=\"ml.c4.2xlarge\"\n",
    ")\n",
    "epochs = ParameterInteger(name=\"Epochs\", default_value=1)\n",
    "batch_size = ParameterInteger(name=\"BatchSize\", default_value=5)\n",
    "train_folder = ParameterString(\n",
    "    name=\"TrainFolderName\",\n",
    "    default_value=\"train\"  # Change this to point to the s3 location of your raw input data.\n",
    ")\n",
    "val_folder = ParameterString(\n",
    "    name=\"ValidationFolderName\",\n",
    "    default_value=\"val\"  # Change this to point to the s3 location of your raw input data.\n",
    ")\n",
    "model_approval_status = ParameterString(\n",
    "    name=\"ModelApprovalStatus\",\n",
    "    default_value=\"PendingManualApproval\",  # ModelApprovalStatus can be set to a default of \"Approved\" if you don't want manual approval.\n",
    ")\n",
    "input_data_path = ParameterString(\n",
    "    name=\"InputDataUrl\",\n",
    "    default_value=f\"s3://{BUCKET_NAME}/input\" #Join(on=\"\",values=[\"s3://\",BUCKET_NAME,\"/input\"]) #,  # Change this to point to the s3 location of your raw input data.\n",
    ")\n",
    "processed_data_path = ParameterString(\n",
    "    name=\"OutputDataUrl\",\n",
    "    default_value=f\"s3://{BUCKET_NAME}/processed\" #Join(on=\"\",values=[\"s3://\",BUCKET_NAME,\"/processed\"]) #,  # Change this to point to the s3 location of your raw input data.\n",
    ")\n",
    "model_path = ParameterString(\n",
    "    name=\"ModelPath\",\n",
    "    default_value=f\"s3://{BUCKET_NAME}/model\" #Join(on=\"\",values=[\"s3://\",BUCKET_NAME,\"/model\"]) #f\"s3://{BUCKET_NAME}/model\",  # Change this to point to the s3 location of your raw input data.\n",
    ")\n",
    "\n",
    "cache_config = CacheConfig(\n",
    "    enable_caching=True,\n",
    "    expire_after=\"T1H\"\n",
    ")"
   ]
  },
  {
   "cell_type": "code",
   "execution_count": 14,
   "id": "9a1686ac-435d-43a9-ba12-7b9f97139e68",
   "metadata": {
    "tags": []
   },
   "outputs": [
    {
     "data": {
      "text/plain": [
       "Join(on='', values=['s3://', 'aravind-aws-ml-sagemaker', '/input'])"
      ]
     },
     "execution_count": 14,
     "metadata": {},
     "output_type": "execute_result"
    }
   ],
   "source": [
    "string1 = Join(on=\"\",values=[\"s3://\",BUCKET_NAME,\"/input\"])\n",
    "string1.to_string()"
   ]
  },
  {
   "cell_type": "code",
   "execution_count": 21,
   "id": "60cf308a-a2b4-41cb-83d4-26b67db92247",
   "metadata": {
    "tags": []
   },
   "outputs": [],
   "source": [
    "cache_config = CacheConfig(\n",
    "        enable_caching=True,\n",
    "        expire_after=\"T1H\"\n",
    "    )\n",
    "processing_step = ProcessingStep(name=\"pre-processing-step\",\n",
    "                                 processor=processor,\n",
    "                                 inputs=ProcessingInput(input_name=\"raw-data\",\n",
    "                                                        source=\"/\",\n",
    "                                                        destination=f\"input\"),\n",
    "                                 code=\"sample.ipynb\",\n",
    "                                 outputs=[ProcessingOutput(output_name=\"train\",\n",
    "                                                           source=\"train\",\n",
    "                                                           destination=\"dest\"),\n",
    "                                          ProcessingOutput(output_name=\"val\",\n",
    "                                                           source=f\"val\",\n",
    "                                                           destination=f\"val\")],\n",
    "                                cache_config=cache_config)"
   ]
  }
 ],
 "metadata": {
  "instance_type": "ml.t3.medium",
  "kernelspec": {
   "display_name": "Python 3 (Data Science)",
   "language": "python",
   "name": "python3__SAGEMAKER_INTERNAL__arn:aws:sagemaker:us-east-1:081325390199:image/datascience-1.0"
  },
  "language_info": {
   "codemirror_mode": {
    "name": "ipython",
    "version": 3
   },
   "file_extension": ".py",
   "mimetype": "text/x-python",
   "name": "python",
   "nbconvert_exporter": "python",
   "pygments_lexer": "ipython3",
   "version": "3.7.10"
  }
 },
 "nbformat": 4,
 "nbformat_minor": 5
}
